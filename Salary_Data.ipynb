{
 "cells": [
  {
   "cell_type": "markdown",
   "id": "1c57025f-f037-4e05-b41b-6c52ffa098b4",
   "metadata": {},
   "source": [
    "### Exploratory Analysis with Linear Regressions\n",
    "##### exploratory analysis by using Linear Regressions on the Kaggle data set "
   ]
  },
  {
   "cell_type": "markdown",
   "id": "856c410c-dabe-4cd5-9e46-23566bfb8cac",
   "metadata": {},
   "source": [
    "##### part 1 : import libraries"
   ]
  },
  {
   "cell_type": "code",
   "execution_count": 1,
   "id": "3fefa417-de22-47e7-80a6-41620a0a485e",
   "metadata": {},
   "outputs": [],
   "source": [
    " # to visual the data as draw\n",
    "import pandas as pd \n",
    "import numpy as np\n",
    "import matplotlib.pyplot as plt # \n",
    "from sklearn.linear_model import LinearRegression # use the linear line \n",
    "from sklearn.model_selection import train_test_split # select the module , linear or multi \n",
    "# %matplotlib inline\n",
    "from sklearn.metrics import mean_squared_error, r2_score\n"
   ]
  },
  {
   "cell_type": "markdown",
   "id": "1efa0fe2-7d03-4ee1-b000-da1b5a2724c0",
   "metadata": {},
   "source": [
    "##### part 2 : read the csv file "
   ]
  },
  {
   "cell_type": "code",
   "execution_count": 2,
   "id": "a1709a39-7d7f-4f4e-96a5-ee1447164400",
   "metadata": {},
   "outputs": [],
   "source": [
    "df = pd.read_csv('./Salary_Data.csv') # Load the data you receive into a Pandas DataFrame."
   ]
  },
  {
   "cell_type": "code",
   "execution_count": 3,
   "id": "09716942-aedb-440f-b950-89ef530dd223",
   "metadata": {},
   "outputs": [
    {
     "data": {
      "text/html": [
       "<div>\n",
       "<style scoped>\n",
       "    .dataframe tbody tr th:only-of-type {\n",
       "        vertical-align: middle;\n",
       "    }\n",
       "\n",
       "    .dataframe tbody tr th {\n",
       "        vertical-align: top;\n",
       "    }\n",
       "\n",
       "    .dataframe thead th {\n",
       "        text-align: right;\n",
       "    }\n",
       "</style>\n",
       "<table border=\"1\" class=\"dataframe\">\n",
       "  <thead>\n",
       "    <tr style=\"text-align: right;\">\n",
       "      <th></th>\n",
       "      <th>YearsExperience</th>\n",
       "      <th>Salary</th>\n",
       "    </tr>\n",
       "  </thead>\n",
       "  <tbody>\n",
       "    <tr>\n",
       "      <th>0</th>\n",
       "      <td>1.1</td>\n",
       "      <td>39343.0</td>\n",
       "    </tr>\n",
       "    <tr>\n",
       "      <th>1</th>\n",
       "      <td>1.3</td>\n",
       "      <td>46205.0</td>\n",
       "    </tr>\n",
       "    <tr>\n",
       "      <th>2</th>\n",
       "      <td>1.5</td>\n",
       "      <td>37731.0</td>\n",
       "    </tr>\n",
       "    <tr>\n",
       "      <th>3</th>\n",
       "      <td>2.0</td>\n",
       "      <td>43525.0</td>\n",
       "    </tr>\n",
       "    <tr>\n",
       "      <th>4</th>\n",
       "      <td>2.2</td>\n",
       "      <td>39891.0</td>\n",
       "    </tr>\n",
       "  </tbody>\n",
       "</table>\n",
       "</div>"
      ],
      "text/plain": [
       "   YearsExperience   Salary\n",
       "0              1.1  39343.0\n",
       "1              1.3  46205.0\n",
       "2              1.5  37731.0\n",
       "3              2.0  43525.0\n",
       "4              2.2  39891.0"
      ]
     },
     "execution_count": 3,
     "metadata": {},
     "output_type": "execute_result"
    }
   ],
   "source": [
    "# Show the first five rows of the data set.\n",
    "df.head()"
   ]
  },
  {
   "cell_type": "code",
   "execution_count": 4,
   "id": "d2e8c765-2790-46fd-bac0-29b6fce4dfa7",
   "metadata": {},
   "outputs": [
    {
     "name": "stdout",
     "output_type": "stream",
     "text": [
      "<class 'pandas.core.frame.DataFrame'>\n",
      "RangeIndex: 30 entries, 0 to 29\n",
      "Data columns (total 2 columns):\n",
      " #   Column           Non-Null Count  Dtype  \n",
      "---  ------           --------------  -----  \n",
      " 0   YearsExperience  30 non-null     float64\n",
      " 1   Salary           30 non-null     float64\n",
      "dtypes: float64(2)\n",
      "memory usage: 608.0 bytes\n"
     ]
    },
    {
     "data": {
      "text/html": [
       "<div>\n",
       "<style scoped>\n",
       "    .dataframe tbody tr th:only-of-type {\n",
       "        vertical-align: middle;\n",
       "    }\n",
       "\n",
       "    .dataframe tbody tr th {\n",
       "        vertical-align: top;\n",
       "    }\n",
       "\n",
       "    .dataframe thead th {\n",
       "        text-align: right;\n",
       "    }\n",
       "</style>\n",
       "<table border=\"1\" class=\"dataframe\">\n",
       "  <thead>\n",
       "    <tr style=\"text-align: right;\">\n",
       "      <th></th>\n",
       "      <th>YearsExperience</th>\n",
       "      <th>Salary</th>\n",
       "    </tr>\n",
       "  </thead>\n",
       "  <tbody>\n",
       "    <tr>\n",
       "      <th>count</th>\n",
       "      <td>30.000000</td>\n",
       "      <td>30.000000</td>\n",
       "    </tr>\n",
       "    <tr>\n",
       "      <th>mean</th>\n",
       "      <td>5.313333</td>\n",
       "      <td>76003.000000</td>\n",
       "    </tr>\n",
       "    <tr>\n",
       "      <th>std</th>\n",
       "      <td>2.837888</td>\n",
       "      <td>27414.429785</td>\n",
       "    </tr>\n",
       "    <tr>\n",
       "      <th>min</th>\n",
       "      <td>1.100000</td>\n",
       "      <td>37731.000000</td>\n",
       "    </tr>\n",
       "    <tr>\n",
       "      <th>25%</th>\n",
       "      <td>3.200000</td>\n",
       "      <td>56720.750000</td>\n",
       "    </tr>\n",
       "    <tr>\n",
       "      <th>50%</th>\n",
       "      <td>4.700000</td>\n",
       "      <td>65237.000000</td>\n",
       "    </tr>\n",
       "    <tr>\n",
       "      <th>75%</th>\n",
       "      <td>7.700000</td>\n",
       "      <td>100544.750000</td>\n",
       "    </tr>\n",
       "    <tr>\n",
       "      <th>max</th>\n",
       "      <td>10.500000</td>\n",
       "      <td>122391.000000</td>\n",
       "    </tr>\n",
       "  </tbody>\n",
       "</table>\n",
       "</div>"
      ],
      "text/plain": [
       "       YearsExperience         Salary\n",
       "count        30.000000      30.000000\n",
       "mean          5.313333   76003.000000\n",
       "std           2.837888   27414.429785\n",
       "min           1.100000   37731.000000\n",
       "25%           3.200000   56720.750000\n",
       "50%           4.700000   65237.000000\n",
       "75%           7.700000  100544.750000\n",
       "max          10.500000  122391.000000"
      ]
     },
     "execution_count": 4,
     "metadata": {},
     "output_type": "execute_result"
    }
   ],
   "source": [
    "df.info() # we have 2 columns YearsExperience  and Salary , 30 row , no null , type float 64  \n",
    "\n",
    "df.describe()# Show the description and the info of the data set."
   ]
  },
  {
   "cell_type": "code",
   "execution_count": 5,
   "id": "fc6ea153-0211-4e38-b6c2-5334d098312b",
   "metadata": {},
   "outputs": [],
   "source": [
    "### part3: Using a regression model,handling, use array inside array , matrix , train and test parts \n",
    "x_axis=df['YearsExperience'].values.reshape(-1,1) # check if -1, 1 or 1-, -1 , this is x axis # 30 items\n",
    "y_axis=df['Salary'].values # 1 array not matrix \n",
    "# train_x=x_axis[:-8] # 22 items from 30 \n",
    "# train_y=y_axis[:-8]# 22 items from 30 \n",
    "# test_x=x_axis[-8:]\n",
    "# test_y=y_axis[-8:] # linear_model.LinearRegression().fit(X,Y)\n",
    "train_x,test_x,train_y,test_y= train_test_split(x_axis,y_axis,test_size=0.2, train_size=0.8, random_state=10)"
   ]
  },
  {
   "cell_type": "code",
   "execution_count": 6,
   "id": "99b3ab00-8d84-47d9-a04c-35ee147955e2",
   "metadata": {},
   "outputs": [
    {
     "name": "stdout",
     "output_type": "stream",
     "text": [
      "coefficient of determination: 0.9494673013344646\n"
     ]
    }
   ],
   "source": [
    "model = LinearRegression()\n",
    "model.fit(train_x, train_y)\n",
    "r_sq = model.score(train_x, train_y)# check line if the fit work 1\n",
    "print('coefficient of determination:', r_sq)# check line if the fit work2 "
   ]
  },
  {
   "cell_type": "code",
   "execution_count": 7,
   "id": "bd72edb2-7a7e-44ea-8c0d-94f61fa0b877",
   "metadata": {},
   "outputs": [
    {
     "data": {
      "image/png": "[encoded data removed]",
      "text/plain": [
       "<Figure size 432x288 with 1 Axes>"
      ]
     },
     "metadata": {
      "needs_background": "light"
     },
     "output_type": "display_data"
    }
   ],
   "source": [
    "test_result_y = model.predict(test_x) # must put the 2 dim, array \n",
    "plt.scatter(train_x,train_y)\n",
    "plt.scatter(test_x,test_y)\n",
    "plt.plot(test_x,test_result_y)# Draw at least three conclusions from your regression model.\n",
    "plt.xlabel('Years of experince')\n",
    "plt.ylabel('Salary')\n",
    "plt.show()"
   ]
  },
  {
   "cell_type": "markdown",
   "id": "30fab7a9-d0e5-4b20-9d7e-3bbd3227fab0",
   "metadata": {},
   "source": [
    "#### Draw at least three conclusions from your regression model.\n",
    "    1. conclose: that whenever the years of experince is increse more the salary will increase \n",
    "        "
   ]
  },
  {
   "cell_type": "markdown",
   "id": "49e02bbd-9bda-4e1d-bfbf-a18ef2f03f71",
   "metadata": {},
   "source": [
    "    2. Mean squared error is high , thier is hight stander div , so personal skills will effect the salary as years of experinces"
   ]
  },
  {
   "cell_type": "code",
   "execution_count": 8,
   "id": "8893bc83-f06c-4235-a431-5daadb4ac90a",
   "metadata": {},
   "outputs": [
    {
     "name": "stdout",
     "output_type": "stream",
     "text": [
      "Mean squared error: 9785570.14\n"
     ]
    }
   ],
   "source": [
    "print('Mean squared error: %.2f'\n",
    "      % mean_squared_error(test_y, test_result_y))"
   ]
  },
  {
   "cell_type": "markdown",
   "id": "f410f7ef-bd67-4b99-a371-1fece6c4cd86",
   "metadata": {},
   "source": [
    "    3. the rate of salary increasing is high , "
   ]
  },
  {
   "cell_type": "code",
   "execution_count": 9,
   "id": "3d0bd036-14d2-430f-b7fd-575eac9714e0",
   "metadata": {},
   "outputs": [
    {
     "name": "stdout",
     "output_type": "stream",
     "text": [
      "[9356.86299354]\n"
     ]
    }
   ],
   "source": [
    "print(model.coef_)"
   ]
  },
  {
   "cell_type": "code",
   "execution_count": null,
   "id": "2e7ce3db-4831-434a-a5b6-98b15f6f78a6",
   "metadata": {},
   "outputs": [],
   "source": []
  }
 ],
 "metadata": {
  "kernelspec": {
   "display_name": "Python 3",
   "language": "python",
   "name": "python3"
  },
  "language_info": {
   "codemirror_mode": {
    "name": "ipython",
    "version": 3
   },
   "file_extension": ".py",
   "mimetype": "text/x-python",
   "name": "python",
   "nbconvert_exporter": "python",
   "pygments_lexer": "ipython3",
   "version": "3.9.4"
  }
 },
 "nbformat": 4,
 "nbformat_minor": 5
}
